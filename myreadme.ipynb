{
 "cells": [
  {
   "cell_type": "markdown",
   "id": "2f429b87",
   "metadata": {},
   "source": [
    "#### logo\n",
    "\n",
    "# bichiMAD - Data Analytics Ironhack module 1"
   ]
  },
  {
   "cell_type": "markdown",
   "id": "299c66f7",
   "metadata": {},
   "source": [
    "bichiMAD find your nearest available bike station at city of Madrid. Tour Madrid in a healthy, sustainable, traffic-free and cheap way.\n",
    "\n",
    "- Choose to take or leave a bike\n",
    "- Enter your email address\n",
    "- Enter a place (to match the most approximate available place of interest)\n",
    "- bichiMAD find your nearest station to take or leave a bike (according to your choice)\n",
    "- Receive an e-mail with result in a map!\n",
    "\n",
    "    You can also choose to find the nearest station for every place. You receive by e-mail an excel with points of interest and their bike station found.\n",
    "    \n",
    "> Available places in [Portal de datos abiertos del Ayuntamiento de Madrid](https://datos.madrid.es/nuevoMadrid/swagger-ui-master-2.2.10/dist/index.html?url=/egobfiles/api.datos.madrid.es.json#/)\n",
    "\n",
    "![Image](https://github.com/elvestevez/biciMAD_project_m1/blob/version_required/img/map_bichiMAD.png?raw=true)\n",
    "\n"
   ]
  },
  {
   "cell_type": "markdown",
   "id": "6e9a4112",
   "metadata": {},
   "source": [
    "### **Configuration**\n",
    "Requeriments, prerequisites, dependencies, installation instructions.\n",
    "\n",
    "\n",
    ".................\n"
   ]
  },
  {
   "cell_type": "markdown",
   "id": "93567749",
   "metadata": {},
   "source": [
    "### **Usage**\n",
    "To run it you have to open in a terminal the file bichiMAD.py. Two arguments:\n",
    "\n",
    "- Option. Choose specific place or every place.\n",
    "\n",
    "    - \"1\" get nearest BiciMAD for every place of interest. \n",
    "    - \"2\" get nearest BiciMAD for a place of interest.\n",
    "    \n",
    "- Action. Choose take or leave a bike.\n",
    "    - \"T\" take a bike. \n",
    "    - \"L\" leave a bike.\n",
    "\n",
    "Example:\n",
    "\n",
    "`bichiMAD.py -o 1 -a T`\n",
    "\n",
    "`bichiMAD.py -o 2 -a L`\n",
    "\n",
    "Process ask for your e-mail address and place of interest. \n",
    "\n",
    "\n",
    "............................ imagen ejemplo ejecución"
   ]
  },
  {
   "cell_type": "markdown",
   "id": "5074ca82",
   "metadata": {},
   "source": [
    "### **Technology stack**\n",
    "...................\n"
   ]
  },
  {
   "cell_type": "markdown",
   "id": "18c5439a",
   "metadata": {},
   "source": [
    "### **Folder structure**\n",
    ".........................\n",
    "\n",
    "```\n",
    "└── project\n",
    "    ├── __trash__  --------------- ¿?????????\n",
    "    ├── .gitignore\n",
    "    ├── .env\n",
    "    ├── requeriments.txt --------------- TODO\n",
    "    ├── img               --------------- TODO\n",
    "    ├── README.md        --------------- TODO\n",
    "    ├── bichiMAD.py\n",
    "    ├── notebooks ------------------------------- ¿????????? se dejan sólo los.py\n",
    "    │   ├── notebook1.ipynb\n",
    "    │   └── notebook2.ipynb\n",
    "    ├── modules\n",
    "    │   ├── module1.py\n",
    "    │   └── .....\n",
    "    └── data\n",
    "        └── results\n",
    "```"
   ]
  }
 ],
 "metadata": {
  "kernelspec": {
   "display_name": "Python [conda env:project_m1]",
   "language": "python",
   "name": "conda-env-project_m1-py"
  },
  "language_info": {
   "codemirror_mode": {
    "name": "ipython",
    "version": 3
   },
   "file_extension": ".py",
   "mimetype": "text/x-python",
   "name": "python",
   "nbconvert_exporter": "python",
   "pygments_lexer": "ipython3",
   "version": "3.9.13"
  }
 },
 "nbformat": 4,
 "nbformat_minor": 5
}
