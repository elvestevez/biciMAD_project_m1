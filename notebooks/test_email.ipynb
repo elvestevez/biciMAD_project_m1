{
 "cells": [
  {
   "cell_type": "code",
   "execution_count": 1,
   "id": "2678d3f1",
   "metadata": {},
   "outputs": [],
   "source": [
    "import smtplib\n",
    "from email.mime.multipart import MIMEMultipart\n",
    "from email.mime.text import MIMEText\n",
    "from email.mime.base import MIMEBase\n",
    "from email import encoders\n"
   ]
  },
  {
   "cell_type": "code",
   "execution_count": 2,
   "id": "0f1fb94e",
   "metadata": {},
   "outputs": [],
   "source": [
    " \n",
    "def send_mail(send_from, send_to, subject, text, files=None,\n",
    "              server=\"127.0.0.1\"):\n",
    "    \n",
    "    msg = MIMEMultipart()\n",
    "    msg['From'] = send_from\n",
    "    msg['To'] = send_to\n",
    "    msg['Subject'] = subject\n",
    "\n",
    "    msg.attach(MIMEText(text))\n",
    "\n",
    "    for f in files or []:\n",
    "        with open(f, \"rb\") as fil:\n",
    "            part = MIMEApplication(\n",
    "                fil.read(),\n",
    "                Name=basename(f)\n",
    "            )\n",
    "        # After the file is closed\n",
    "        part['Content-Disposition'] = 'attachment; filename=\"%s\"' % basename(f)\n",
    "        msg.attach(part)\n",
    "\n",
    "\n",
    "    server = smtplib.SMTP('smtp.gmail.com', 587)\n",
    "    server.starttls()\n",
    "    server.login(fromaddr, \"Elvi0613\")\n",
    "    text = msg.as_string()\n",
    "    server.sendmail(fromaddr, toaddr, text)\n",
    "    server.quit()\n"
   ]
  },
  {
   "cell_type": "code",
   "execution_count": 3,
   "id": "eb7c1b58",
   "metadata": {},
   "outputs": [
    {
     "ename": "NameError",
     "evalue": "name 'fromaddr' is not defined",
     "output_type": "error",
     "traceback": [
      "\u001b[0;31m---------------------------------------------------------------------------\u001b[0m",
      "\u001b[0;31mNameError\u001b[0m                                 Traceback (most recent call last)",
      "Input \u001b[0;32mIn [3]\u001b[0m, in \u001b[0;36m<cell line: 6>\u001b[0;34m()\u001b[0m\n\u001b[1;32m      3\u001b[0m subject \u001b[38;5;241m=\u001b[39m \u001b[38;5;124m\"\u001b[39m\u001b[38;5;124mtest\u001b[39m\u001b[38;5;124m\"\u001b[39m\n\u001b[1;32m      4\u001b[0m text \u001b[38;5;241m=\u001b[39m \u001b[38;5;124m\"\u001b[39m\u001b[38;5;124mhola\u001b[39m\u001b[38;5;124m\"\u001b[39m\n\u001b[0;32m----> 6\u001b[0m \u001b[43msend_mail\u001b[49m\u001b[43m(\u001b[49m\u001b[43msend_from\u001b[49m\u001b[43m,\u001b[49m\u001b[43m \u001b[49m\u001b[43msend_to\u001b[49m\u001b[43m,\u001b[49m\u001b[43m \u001b[49m\u001b[43msubject\u001b[49m\u001b[43m,\u001b[49m\u001b[43m \u001b[49m\u001b[43mtext\u001b[49m\u001b[43m,\u001b[49m\u001b[43m \u001b[49m\u001b[43mfiles\u001b[49m\u001b[38;5;241;43m=\u001b[39;49m\u001b[38;5;28;43;01mNone\u001b[39;49;00m\u001b[43m,\u001b[49m\u001b[43m \u001b[49m\u001b[43mserver\u001b[49m\u001b[38;5;241;43m=\u001b[39;49m\u001b[38;5;124;43m\"\u001b[39;49m\u001b[38;5;124;43m127.0.0.1\u001b[39;49m\u001b[38;5;124;43m\"\u001b[39;49m\u001b[43m)\u001b[49m\n",
      "Input \u001b[0;32mIn [2]\u001b[0m, in \u001b[0;36msend_mail\u001b[0;34m(send_from, send_to, subject, text, files, server)\u001b[0m\n\u001b[1;32m     22\u001b[0m server \u001b[38;5;241m=\u001b[39m smtplib\u001b[38;5;241m.\u001b[39mSMTP(\u001b[38;5;124m'\u001b[39m\u001b[38;5;124msmtp.gmail.com\u001b[39m\u001b[38;5;124m'\u001b[39m, \u001b[38;5;241m587\u001b[39m)\n\u001b[1;32m     23\u001b[0m server\u001b[38;5;241m.\u001b[39mstarttls()\n\u001b[0;32m---> 24\u001b[0m server\u001b[38;5;241m.\u001b[39mlogin(\u001b[43mfromaddr\u001b[49m, \u001b[38;5;124m\"\u001b[39m\u001b[38;5;124mElvi0613\u001b[39m\u001b[38;5;124m\"\u001b[39m)\n\u001b[1;32m     25\u001b[0m text \u001b[38;5;241m=\u001b[39m msg\u001b[38;5;241m.\u001b[39mas_string()\n\u001b[1;32m     26\u001b[0m server\u001b[38;5;241m.\u001b[39msendmail(fromaddr, toaddr, text)\n",
      "\u001b[0;31mNameError\u001b[0m: name 'fromaddr' is not defined"
     ]
    }
   ],
   "source": [
    "send_from = \"elv.estevez@gmail.com\"\n",
    "send_to = \"elv.estevez@gmail.com\"\n",
    "subject = \"test\"\n",
    "text = \"hola\"\n",
    "\n",
    "send_mail(send_from, send_to, subject, text, files=None, server=\"127.0.0.1\")\n"
   ]
  },
  {
   "cell_type": "code",
   "execution_count": null,
   "id": "79d2ebb3",
   "metadata": {},
   "outputs": [],
   "source": []
  },
  {
   "cell_type": "code",
   "execution_count": null,
   "id": "17236a31",
   "metadata": {},
   "outputs": [],
   "source": []
  },
  {
   "cell_type": "code",
   "execution_count": null,
   "id": "587bbce4",
   "metadata": {},
   "outputs": [],
   "source": []
  },
  {
   "cell_type": "code",
   "execution_count": null,
   "id": "7e3a2355",
   "metadata": {},
   "outputs": [],
   "source": []
  },
  {
   "cell_type": "code",
   "execution_count": null,
   "id": "76792828",
   "metadata": {},
   "outputs": [],
   "source": []
  },
  {
   "cell_type": "code",
   "execution_count": null,
   "id": "9e8f38ff",
   "metadata": {},
   "outputs": [],
   "source": []
  }
 ],
 "metadata": {
  "kernelspec": {
   "display_name": "Python [conda env:project_m1]",
   "language": "python",
   "name": "conda-env-project_m1-py"
  },
  "language_info": {
   "codemirror_mode": {
    "name": "ipython",
    "version": 3
   },
   "file_extension": ".py",
   "mimetype": "text/x-python",
   "name": "python",
   "nbconvert_exporter": "python",
   "pygments_lexer": "ipython3",
   "version": "3.9.13"
  }
 },
 "nbformat": 4,
 "nbformat_minor": 5
}
