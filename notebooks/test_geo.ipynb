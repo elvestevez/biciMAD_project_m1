{
 "cells": [
  {
   "cell_type": "code",
   "execution_count": 1,
   "id": "dcd339ee",
   "metadata": {},
   "outputs": [],
   "source": [
    "from shapely.geometry import Point\n",
    "import geopandas as gpd   # conda install -c conda-forge geopandas\n"
   ]
  },
  {
   "cell_type": "code",
   "execution_count": 2,
   "id": "3fb65787",
   "metadata": {},
   "outputs": [],
   "source": [
    "\n",
    "def to_mercator(lat, long):\n",
    "    # transform latitude/longitude data in degrees to pseudo-mercator coordinates in metres\n",
    "    c = gpd.GeoSeries([Point(lat, long)], crs=4326)\n",
    "    c = c.to_crs(3857)\n",
    "    return c\n",
    "\n",
    "def distance_meters(lat_start, long_start, lat_finish, long_finish):\n",
    "    # return the distance in metres between to latitude/longitude pair point in degrees (i.e.: 40.392436 / -3.6994487)\n",
    "    start = to_mercator(lat_start, long_start)\n",
    "    finish = to_mercator(lat_finish, long_finish)\n",
    "    return start.distance(finish)"
   ]
  },
  {
   "cell_type": "code",
   "execution_count": 3,
   "id": "21fc92dd",
   "metadata": {},
   "outputs": [
    {
     "data": {
      "text/plain": [
       "0    6827.891306\n",
       "dtype: float64"
      ]
     },
     "execution_count": 3,
     "metadata": {},
     "output_type": "execute_result"
    }
   ],
   "source": [
    "distance_meters(40.45835460563491, -3.5932903820278788, 40.43629956289038, -3.6504096146979457)\n"
   ]
  }
 ],
 "metadata": {
  "kernelspec": {
   "display_name": "Python [conda env:project_m1]",
   "language": "python",
   "name": "conda-env-project_m1-py"
  },
  "language_info": {
   "codemirror_mode": {
    "name": "ipython",
    "version": 3
   },
   "file_extension": ".py",
   "mimetype": "text/x-python",
   "name": "python",
   "nbconvert_exporter": "python",
   "pygments_lexer": "ipython3",
   "version": "3.9.13"
  }
 },
 "nbformat": 4,
 "nbformat_minor": 5
}
