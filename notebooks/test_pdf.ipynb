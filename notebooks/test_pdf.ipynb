{
 "cells": [
  {
   "cell_type": "code",
   "execution_count": 1,
   "id": "7e3a2355",
   "metadata": {},
   "outputs": [],
   "source": [
    "import requests\n",
    "import json\n",
    "import pandas as pd\n",
    "\n",
    "\n",
    "DATASET_CULTURAL = \"https://datos.madrid.es/egob/catalogo/200304-0-centros-culturales.json\" # \"Centros Culturales Municipales (incluyen Socioculturales y Juveniles)\"\n",
    "DATASET_MUSEUM = \"https://datos.madrid.es/egob/catalogo/201132-0-museos.json\" # \"Museos de la ciudad de Madrid\"\n",
    "DATASET_PARKS = \"https://datos.madrid.es/egob/catalogo/200761-0-parques-jardines.json\" # \"Principales parques y jardines municipales\"\n",
    "\n",
    "\n",
    "# get dataset from URL API Ayuntamiento Madrid\n",
    "def get_dataset(url, type_ds):\n",
    "    # get response of url and convert to json\n",
    "    response = requests.get(url)\n",
    "    dataset_json = response.json()\n",
    "    dataset = [dict(d, type_place=type_ds) for d in [dat for dat in dataset_json[\"@graph\"]]]\n",
    "    return dataset\n",
    "\n",
    "# join n datasets\n",
    "def join_datasets(*args):\n",
    "    # join datasets (list of dict)\n",
    "    dt_join = []\n",
    "    for d in args:\n",
    "        dt_join += d\n",
    "    return dt_join\n",
    "\n",
    "# load selected datasets\n",
    "def load_datasets():\n",
    "    # get and join datasets\n",
    "    ds = join_datasets(get_dataset(DATASET_CULTURAL, \"Centros Culturales Municipales (incluyen Socioculturales y Juveniles)\"), \n",
    "                       get_dataset(DATASET_MUSEUM, \"Museos de la ciudad de Madrid\"))\n",
    "    return ds\n",
    "\n",
    "# get places data\n",
    "def get_all_places():\n",
    "    # load datasets\n",
    "    places_dataset = load_datasets()\n",
    "    # normalize and get needed columns\n",
    "    df = pd.json_normalize(places_dataset)[[\"title\", \n",
    "                                            \"type_place\", \n",
    "                                            \"address.street-address\", \n",
    "                                            \"location.latitude\", \n",
    "                                            \"location.longitude\"]].rename(columns={\"address.street-address\": \"address_place\",\n",
    "                                                                                   \"location.latitude\": \"lat_place\",\n",
    "                                                                                   \"location.longitude\": \"lon_place\"})\n",
    "    # remove rows with NA values\n",
    "    df = df.dropna()\n",
    "    return df\n"
   ]
  },
  {
   "cell_type": "code",
   "execution_count": null,
   "id": "e5a45f83",
   "metadata": {},
   "outputs": [],
   "source": []
  },
  {
   "cell_type": "code",
   "execution_count": null,
   "id": "28952a80",
   "metadata": {},
   "outputs": [],
   "source": []
  },
  {
   "cell_type": "code",
   "execution_count": 3,
   "id": "680ee618",
   "metadata": {},
   "outputs": [
    {
     "data": {
      "text/html": [
       "<div>\n",
       "<style scoped>\n",
       "    .dataframe tbody tr th:only-of-type {\n",
       "        vertical-align: middle;\n",
       "    }\n",
       "\n",
       "    .dataframe tbody tr th {\n",
       "        vertical-align: top;\n",
       "    }\n",
       "\n",
       "    .dataframe thead th {\n",
       "        text-align: right;\n",
       "    }\n",
       "</style>\n",
       "<table border=\"1\" class=\"dataframe\">\n",
       "  <thead>\n",
       "    <tr style=\"text-align: right;\">\n",
       "      <th></th>\n",
       "      <th>title</th>\n",
       "      <th>type_place</th>\n",
       "      <th>address_place</th>\n",
       "      <th>lat_place</th>\n",
       "      <th>lon_place</th>\n",
       "    </tr>\n",
       "  </thead>\n",
       "  <tbody>\n",
       "    <tr>\n",
       "      <th>0</th>\n",
       "      <td>Auditorio Carmen Laforet (Ciudad Lineal)</td>\n",
       "      <td>Centros Culturales Municipales (incluyen Socio...</td>\n",
       "      <td>CALLE JAZMIN 46</td>\n",
       "      <td>40.479608</td>\n",
       "      <td>-3.665799</td>\n",
       "    </tr>\n",
       "    <tr>\n",
       "      <th>1</th>\n",
       "      <td>Auditorio al aire libre. Parque del Calero</td>\n",
       "      <td>Centros Culturales Municipales (incluyen Socio...</td>\n",
       "      <td>CALLE JOSE DEL HIERRO 3</td>\n",
       "      <td>40.436300</td>\n",
       "      <td>-3.650410</td>\n",
       "    </tr>\n",
       "    <tr>\n",
       "      <th>2</th>\n",
       "      <td>Auditorio y sala de exposiciones Paco de Lucía...</td>\n",
       "      <td>Centros Culturales Municipales (incluyen Socio...</td>\n",
       "      <td>AVENIDA LAS AGUILAS 2 A</td>\n",
       "      <td>40.385132</td>\n",
       "      <td>-3.761912</td>\n",
       "    </tr>\n",
       "    <tr>\n",
       "      <th>3</th>\n",
       "      <td>Centro Comunitario Casino de la Reina</td>\n",
       "      <td>Centros Culturales Municipales (incluyen Socio...</td>\n",
       "      <td>CALLE CASINO 3</td>\n",
       "      <td>40.406793</td>\n",
       "      <td>-3.704609</td>\n",
       "    </tr>\n",
       "    <tr>\n",
       "      <th>4</th>\n",
       "      <td>Centro Cultural - Centro Socio Cultural Villa ...</td>\n",
       "      <td>Centros Culturales Municipales (incluyen Socio...</td>\n",
       "      <td>CALLE BOTICA 7 y 10</td>\n",
       "      <td>40.473402</td>\n",
       "      <td>-3.578523</td>\n",
       "    </tr>\n",
       "    <tr>\n",
       "      <th>...</th>\n",
       "      <td>...</td>\n",
       "      <td>...</td>\n",
       "      <td>...</td>\n",
       "      <td>...</td>\n",
       "      <td>...</td>\n",
       "    </tr>\n",
       "    <tr>\n",
       "      <th>178</th>\n",
       "      <td>Real Monasterio de las Descalzas Reales</td>\n",
       "      <td>Museos de la ciudad de Madrid</td>\n",
       "      <td>PLAZA DESCALZAS 3</td>\n",
       "      <td>40.418233</td>\n",
       "      <td>-3.706213</td>\n",
       "    </tr>\n",
       "    <tr>\n",
       "      <th>179</th>\n",
       "      <td>Templo de Debod</td>\n",
       "      <td>Museos de la ciudad de Madrid</td>\n",
       "      <td>CALLE FERRAZ 1</td>\n",
       "      <td>40.424251</td>\n",
       "      <td>-3.716532</td>\n",
       "    </tr>\n",
       "    <tr>\n",
       "      <th>180</th>\n",
       "      <td>The Robot Museum (Museo del Robot)</td>\n",
       "      <td>Museos de la ciudad de Madrid</td>\n",
       "      <td>CALLE SERRANO 61 PLANTA BAJA</td>\n",
       "      <td>40.432215</td>\n",
       "      <td>-3.686955</td>\n",
       "    </tr>\n",
       "    <tr>\n",
       "      <th>181</th>\n",
       "      <td>Yacimiento paleontológico. Estación de Metro C...</td>\n",
       "      <td>Museos de la ciudad de Madrid</td>\n",
       "      <td>CALLE VIA CARPETANA 141</td>\n",
       "      <td>40.392541</td>\n",
       "      <td>-3.741303</td>\n",
       "    </tr>\n",
       "    <tr>\n",
       "      <th>182</th>\n",
       "      <td>Zapadores Ciudad del Arte</td>\n",
       "      <td>Museos de la ciudad de Madrid</td>\n",
       "      <td>CALLE ANTONIO DE CABEZON 70</td>\n",
       "      <td>40.495728</td>\n",
       "      <td>-3.681812</td>\n",
       "    </tr>\n",
       "  </tbody>\n",
       "</table>\n",
       "<p>183 rows × 5 columns</p>\n",
       "</div>"
      ],
      "text/plain": [
       "                                                 title  \\\n",
       "0             Auditorio Carmen Laforet (Ciudad Lineal)   \n",
       "1           Auditorio al aire libre. Parque del Calero   \n",
       "2    Auditorio y sala de exposiciones Paco de Lucía...   \n",
       "3                Centro Comunitario Casino de la Reina   \n",
       "4    Centro Cultural - Centro Socio Cultural Villa ...   \n",
       "..                                                 ...   \n",
       "178            Real Monasterio de las Descalzas Reales   \n",
       "179                                    Templo de Debod   \n",
       "180                 The Robot Museum (Museo del Robot)   \n",
       "181  Yacimiento paleontológico. Estación de Metro C...   \n",
       "182                          Zapadores Ciudad del Arte   \n",
       "\n",
       "                                            type_place  \\\n",
       "0    Centros Culturales Municipales (incluyen Socio...   \n",
       "1    Centros Culturales Municipales (incluyen Socio...   \n",
       "2    Centros Culturales Municipales (incluyen Socio...   \n",
       "3    Centros Culturales Municipales (incluyen Socio...   \n",
       "4    Centros Culturales Municipales (incluyen Socio...   \n",
       "..                                                 ...   \n",
       "178                      Museos de la ciudad de Madrid   \n",
       "179                      Museos de la ciudad de Madrid   \n",
       "180                      Museos de la ciudad de Madrid   \n",
       "181                      Museos de la ciudad de Madrid   \n",
       "182                      Museos de la ciudad de Madrid   \n",
       "\n",
       "                    address_place  lat_place  lon_place  \n",
       "0                 CALLE JAZMIN 46  40.479608  -3.665799  \n",
       "1         CALLE JOSE DEL HIERRO 3  40.436300  -3.650410  \n",
       "2         AVENIDA LAS AGUILAS 2 A  40.385132  -3.761912  \n",
       "3                  CALLE CASINO 3  40.406793  -3.704609  \n",
       "4             CALLE BOTICA 7 y 10  40.473402  -3.578523  \n",
       "..                            ...        ...        ...  \n",
       "178             PLAZA DESCALZAS 3  40.418233  -3.706213  \n",
       "179                CALLE FERRAZ 1  40.424251  -3.716532  \n",
       "180  CALLE SERRANO 61 PLANTA BAJA  40.432215  -3.686955  \n",
       "181       CALLE VIA CARPETANA 141  40.392541  -3.741303  \n",
       "182   CALLE ANTONIO DE CABEZON 70  40.495728  -3.681812  \n",
       "\n",
       "[183 rows x 5 columns]"
      ]
     },
     "execution_count": 3,
     "metadata": {},
     "output_type": "execute_result"
    }
   ],
   "source": [
    "df_places = get_all_places()\n",
    "df_places"
   ]
  },
  {
   "cell_type": "code",
   "execution_count": null,
   "id": "2221638b",
   "metadata": {},
   "outputs": [],
   "source": []
  },
  {
   "cell_type": "code",
   "execution_count": null,
   "id": "22521123",
   "metadata": {},
   "outputs": [],
   "source": []
  },
  {
   "cell_type": "code",
   "execution_count": null,
   "id": "4cac54a0",
   "metadata": {},
   "outputs": [],
   "source": []
  },
  {
   "cell_type": "code",
   "execution_count": null,
   "id": "5209fd76",
   "metadata": {},
   "outputs": [],
   "source": []
  },
  {
   "cell_type": "code",
   "execution_count": null,
   "id": "f4eea79f",
   "metadata": {},
   "outputs": [],
   "source": []
  },
  {
   "cell_type": "code",
   "execution_count": 6,
   "id": "76792828",
   "metadata": {},
   "outputs": [],
   "source": [
    "import pandas as pd\n",
    "import pdfkit as pdf"
   ]
  },
  {
   "cell_type": "code",
   "execution_count": 7,
   "id": "9e8f38ff",
   "metadata": {},
   "outputs": [],
   "source": [
    "df_places.to_html(\"./result_df.html\")"
   ]
  },
  {
   "cell_type": "code",
   "execution_count": 8,
   "id": "5a941297",
   "metadata": {},
   "outputs": [
    {
     "data": {
      "text/plain": [
       "True"
      ]
     },
     "execution_count": 8,
     "metadata": {},
     "output_type": "execute_result"
    }
   ],
   "source": [
    "pdf.from_file(\"./result_df.html\", \"./result_df.pdf\")\n"
   ]
  },
  {
   "cell_type": "code",
   "execution_count": null,
   "id": "1dd9a486",
   "metadata": {},
   "outputs": [],
   "source": []
  },
  {
   "cell_type": "code",
   "execution_count": null,
   "id": "18f13bef",
   "metadata": {},
   "outputs": [],
   "source": []
  },
  {
   "cell_type": "code",
   "execution_count": null,
   "id": "bc93bc60",
   "metadata": {},
   "outputs": [],
   "source": []
  },
  {
   "cell_type": "code",
   "execution_count": null,
   "id": "bea97bea",
   "metadata": {},
   "outputs": [],
   "source": []
  },
  {
   "cell_type": "code",
   "execution_count": 12,
   "id": "11a4e3bb",
   "metadata": {},
   "outputs": [],
   "source": [
    "df_places.to_excel(\"./results1.xlsx\", sheet_name=\"BiciMAD\", index=False)"
   ]
  },
  {
   "cell_type": "code",
   "execution_count": 15,
   "id": "df064f84",
   "metadata": {},
   "outputs": [],
   "source": [
    "from UliPlot.XLSX import auto_adjust_xlsx_column_width"
   ]
  },
  {
   "cell_type": "code",
   "execution_count": 19,
   "id": "f519788b",
   "metadata": {},
   "outputs": [],
   "source": [
    "with pd.ExcelWriter(\"./results2.xlsx\") as writer:\n",
    "    df_places.to_excel(writer, sheet_name=\"bici\", index= False)\n",
    "    auto_adjust_xlsx_column_width(df_places, writer, sheet_name=\"bici\", margin=0)"
   ]
  },
  {
   "cell_type": "code",
   "execution_count": 20,
   "id": "76ca34c8",
   "metadata": {},
   "outputs": [],
   "source": [
    "\n",
    "\n"
   ]
  },
  {
   "cell_type": "code",
   "execution_count": 25,
   "id": "a7ebf446",
   "metadata": {},
   "outputs": [
    {
     "data": {
      "text/plain": [
       "True"
      ]
     },
     "execution_count": 25,
     "metadata": {},
     "output_type": "execute_result"
    }
   ],
   "source": [
    "import webbrowser\n",
    "new = 2 # open in a new tab, if possible\n",
    "\n",
    "url = \"http://docs.python.org/library/webbrowser.html\"\n",
    "webbrowser.open(url,new=new)\n"
   ]
  },
  {
   "cell_type": "code",
   "execution_count": 30,
   "id": "3a270ba1",
   "metadata": {},
   "outputs": [
    {
     "name": "stdout",
     "output_type": "stream",
     "text": [
      "/home/elvira/workspace/biciMAD_project_m1/results/BiciMAD_nearest.html\n"
     ]
    },
    {
     "data": {
      "text/plain": [
       "True"
      ]
     },
     "execution_count": 30,
     "metadata": {},
     "output_type": "execute_result"
    }
   ],
   "source": [
    "import webbrowser\n",
    "import os \n",
    "\n",
    "new = 2 # open in a new tab, if possible\n",
    "\n",
    "#url = \"file:///home/elvira/workspace/biciMAD_project_m1/results/BiciMAD_nearest.html\"\n",
    "my_file = os.path.abspath(\"../results/BiciMAD_nearest.html\")\n",
    "print(my_file)\n",
    "\n",
    "url = f\"file://{my_file}\"\n",
    "webbrowser.open(url,new=new)"
   ]
  }
 ],
 "metadata": {
  "kernelspec": {
   "display_name": "Python [conda env:project_m1]",
   "language": "python",
   "name": "conda-env-project_m1-py"
  },
  "language_info": {
   "codemirror_mode": {
    "name": "ipython",
    "version": 3
   },
   "file_extension": ".py",
   "mimetype": "text/x-python",
   "name": "python",
   "nbconvert_exporter": "python",
   "pygments_lexer": "ipython3",
   "version": "3.9.13"
  }
 },
 "nbformat": 4,
 "nbformat_minor": 5
}
